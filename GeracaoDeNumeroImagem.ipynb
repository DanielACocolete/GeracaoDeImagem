{
  "nbformat": 4,
  "nbformat_minor": 0,
  "metadata": {
    "colab": {
      "provenance": [],
      "authorship_tag": "ABX9TyPraKpgikqEQDiBpChlQD7b",
      "include_colab_link": true
    },
    "kernelspec": {
      "name": "python3",
      "display_name": "Python 3"
    },
    "language_info": {
      "name": "python"
    }
  },
  "cells": [
    {
      "cell_type": "markdown",
      "metadata": {
        "id": "view-in-github",
        "colab_type": "text"
      },
      "source": [
        "<a href=\"https://colab.research.google.com/github/DanielACocolete/GeracaoDeImagem/blob/main/GeracaoDeNumeroImagem.ipynb\" target=\"_parent\"><img src=\"https://colab.research.google.com/assets/colab-badge.svg\" alt=\"Open In Colab\"/></a>"
      ]
    },
    {
      "cell_type": "code",
      "execution_count": 1,
      "metadata": {
        "colab": {
          "base_uri": "https://localhost:8080/"
        },
        "id": "IWnpauuin86I",
        "outputId": "8c44a5e6-3818-41cc-e71f-9a60348ac3e9"
      },
      "outputs": [
        {
          "output_type": "stream",
          "name": "stdout",
          "text": [
            "Requirement already satisfied: numpy in /usr/local/lib/python3.10/dist-packages (1.25.2)\n",
            "Requirement already satisfied: scikit-learn in /usr/local/lib/python3.10/dist-packages (1.2.2)\n",
            "Requirement already satisfied: matplotlib in /usr/local/lib/python3.10/dist-packages (3.7.1)\n",
            "Requirement already satisfied: scipy>=1.3.2 in /usr/local/lib/python3.10/dist-packages (from scikit-learn) (1.11.4)\n",
            "Requirement already satisfied: joblib>=1.1.1 in /usr/local/lib/python3.10/dist-packages (from scikit-learn) (1.4.2)\n",
            "Requirement already satisfied: threadpoolctl>=2.0.0 in /usr/local/lib/python3.10/dist-packages (from scikit-learn) (3.5.0)\n",
            "Requirement already satisfied: contourpy>=1.0.1 in /usr/local/lib/python3.10/dist-packages (from matplotlib) (1.2.1)\n",
            "Requirement already satisfied: cycler>=0.10 in /usr/local/lib/python3.10/dist-packages (from matplotlib) (0.12.1)\n",
            "Requirement already satisfied: fonttools>=4.22.0 in /usr/local/lib/python3.10/dist-packages (from matplotlib) (4.51.0)\n",
            "Requirement already satisfied: kiwisolver>=1.0.1 in /usr/local/lib/python3.10/dist-packages (from matplotlib) (1.4.5)\n",
            "Requirement already satisfied: packaging>=20.0 in /usr/local/lib/python3.10/dist-packages (from matplotlib) (24.0)\n",
            "Requirement already satisfied: pillow>=6.2.0 in /usr/local/lib/python3.10/dist-packages (from matplotlib) (9.4.0)\n",
            "Requirement already satisfied: pyparsing>=2.3.1 in /usr/local/lib/python3.10/dist-packages (from matplotlib) (3.1.2)\n",
            "Requirement already satisfied: python-dateutil>=2.7 in /usr/local/lib/python3.10/dist-packages (from matplotlib) (2.8.2)\n",
            "Requirement already satisfied: six>=1.5 in /usr/local/lib/python3.10/dist-packages (from python-dateutil>=2.7->matplotlib) (1.16.0)\n"
          ]
        }
      ],
      "source": [
        "!pip install numpy scikit-learn matplotlib"
      ]
    },
    {
      "cell_type": "code",
      "source": [
        "import numpy as np\n",
        "from sklearn import datasets\n",
        "from sklearn.model_selection import train_test_split\n",
        "from sklearn.neighbors import KNeighborsClassifier\n",
        "import matplotlib.pyplot as plt\n",
        "\n",
        "# Função para criar uma matriz de imagem de um número\n",
        "def create_number_array(number, image_size=(8, 8)):\n",
        "    # Criar uma matriz 8x8 com zeros\n",
        "    img_array = np.zeros(image_size)\n",
        "\n",
        "    # Definir padrões simples para cada número (apenas como exemplo)\n",
        "    patterns = {\n",
        "        0: [\n",
        "            [0, 1, 1, 1, 1, 1, 0],\n",
        "            [1, 0, 0, 0, 0, 0, 1],\n",
        "            [1, 0, 0, 0, 0, 0, 1],\n",
        "            [1, 0, 0, 0, 0, 0, 1],\n",
        "            [1, 0, 0, 0, 0, 0, 1],\n",
        "            [1, 0, 0, 0, 0, 0, 1],\n",
        "            [0, 1, 1, 1, 1, 1, 0],\n",
        "        ],\n",
        "        1: [\n",
        "            [0, 0, 1, 1, 0, 0, 0],\n",
        "            [0, 1, 1, 1, 0, 0, 0],\n",
        "            [0, 0, 1, 1, 0, 0, 0],\n",
        "            [0, 0, 1, 1, 0, 0, 0],\n",
        "            [0, 0, 1, 1, 0, 0, 0],\n",
        "            [0, 0, 1, 1, 0, 0, 0],\n",
        "            [0, 1, 1, 1, 1, 1, 0],\n",
        "        ],\n",
        "        # Adicione padrões para outros números conforme necessário\n",
        "    }\n",
        "\n",
        "    pattern = patterns.get(number, np.zeros((7, 7)))  # Obter o padrão ou uma matriz vazia\n",
        "    img_array[1:8, 1:8] = pattern  # Inserir o padrão na matriz 8x8\n",
        "\n",
        "    return img_array\n",
        "\n",
        "# Carregar dataset MNIST\n",
        "mnist = datasets.load_digits()\n",
        "X, y = mnist.images, mnist.target\n",
        "X = X.reshape((X.shape[0], -1))  # Redimensionar as imagens para vetores de uma dimensão\n",
        "\n",
        "# Dividir os dados em conjuntos de treino e teste\n",
        "X_train, X_test, y_train, y_test = train_test_split(X, y, test_size=0.5, random_state=42)\n",
        "\n",
        "# Treinar o classificador KNN\n",
        "knn = KNeighborsClassifier(n_neighbors=3)\n",
        "knn.fit(X_train, y_train)\n",
        "\n",
        "# Número predefinido\n",
        "number = 1\n",
        "\n",
        "# Criar matriz do número\n",
        "img_array = create_number_array(number)\n",
        "\n",
        "# Converter a matriz para um vetor\n",
        "img_vector = img_array.reshape(1, -1)\n",
        "\n",
        "# Prever o número usando o classificador KNN\n",
        "predicted_number = knn.predict(img_vector)\n",
        "\n",
        "# Mostrar a imagem e a previsão\n",
        "plt.imshow(img_array, cmap='gray')\n",
        "plt.title(f'Número desenhado: {number}\\nPrevisão: {predicted_number[0]}')\n",
        "plt.axis('off')\n",
        "plt.show()"
      ],
      "metadata": {
        "colab": {
          "base_uri": "https://localhost:8080/",
          "height": 449
        },
        "id": "tjM8YKXGoFUw",
        "outputId": "558814d7-b928-42a4-a07a-828f11e229f3"
      },
      "execution_count": 2,
      "outputs": [
        {
          "output_type": "display_data",
          "data": {
            "text/plain": [
              "<Figure size 640x480 with 1 Axes>"
            ],
            "image/png": "[encoded data removed]"
          },
          "metadata": {}
        }
      ]
    }
  ]
}